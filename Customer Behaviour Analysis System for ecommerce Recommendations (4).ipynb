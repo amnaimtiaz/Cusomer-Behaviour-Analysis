{
 "cells": [
  {
   "cell_type": "markdown",
   "id": "eadd4731",
   "metadata": {},
   "source": [
    "# Customer behavior analysis system for e-commerce recommendations"
   ]
  },
  {
   "cell_type": "code",
   "execution_count": 1,
   "id": "ba73ba99",
   "metadata": {},
   "outputs": [],
   "source": [
    "import pandas as pd\n",
    "import numpy as np\n",
    "import matplotlib.pyplot as plt\n",
    "from sklearn.preprocessing import MinMaxScaler"
   ]
  },
  {
   "cell_type": "code",
   "execution_count": 2,
   "id": "3a8f9bd2",
   "metadata": {},
   "outputs": [
    {
     "name": "stdout",
     "output_type": "stream",
     "text": [
      "  InvoiceNo InvoiceDate  InvoiceTime StockCode  \\\n",
      "0    536365  01-12-2010  08:26:00 AM    85123A   \n",
      "1    536365  01-12-2010  08:26:00 AM     71053   \n",
      "2    536365  01-12-2010  08:26:00 AM    84406B   \n",
      "3    536365  01-12-2010  08:26:00 AM    84029G   \n",
      "4    536365  01-12-2010  08:26:00 AM    84029E   \n",
      "\n",
      "                           Description  Quantity  UnitPrice  Totalsale  \\\n",
      "0   WHITE HANGING HEART T-LIGHT HOLDER         6       2.55      15.30   \n",
      "1                  WHITE METAL LANTERN         6       3.39      20.34   \n",
      "2       CREAM CUPID HEARTS COAT HANGER         8       2.75      22.00   \n",
      "3  KNITTED UNION FLAG HOT WATER BOTTLE         6       3.39      20.34   \n",
      "4       RED WOOLLY HOTTIE WHITE HEART.         6       3.39      20.34   \n",
      "\n",
      "   CustomerID         Country  \n",
      "0     17850.0  United Kingdom  \n",
      "1     17850.0  United Kingdom  \n",
      "2     17850.0  United Kingdom  \n",
      "3     17850.0  United Kingdom  \n",
      "4     17850.0  United Kingdom  \n",
      "Index(['InvoiceNo', 'InvoiceDate', 'InvoiceTime', 'StockCode', 'Description',\n",
      "       'Quantity', 'UnitPrice', 'Totalsale', 'CustomerID', 'Country'],\n",
      "      dtype='object')\n"
     ]
    }
   ],
   "source": [
    "sales_data = pd.read_csv(\"D:\\Projects\\customer behavior analysis system for ecommerce recommendations\\Sales data based on demographics\\Online Retail.csv\")\n",
    "print(sales_data.head())\n",
    "print(sales_data.columns)\n",
    "behavior_data = pd.read_csv(\"D:\\Projects\\customer behavior analysis system for ecommerce recommendations\\Online Retail Dataset\\online_retail.csv\")\n",
    "#print(behavior_data.head())\n",
    "#print(behavior_data.columns)"
   ]
  },
  {
   "cell_type": "markdown",
   "id": "83263c9c",
   "metadata": {},
   "source": [
    "## Preprocess the datasets\n",
    "### handling missing values, removing duplicates, correcting inconsistencies, scaling or normalizing variables, and any other necessary transformations."
   ]
  },
  {
   "cell_type": "code",
   "execution_count": 3,
   "id": "491c6dbb",
   "metadata": {},
   "outputs": [],
   "source": [
    "# Remove rows with missing values\n",
    "sales_data.dropna(inplace=True)\n",
    "behavior_data.dropna(inplace=True)"
   ]
  },
  {
   "cell_type": "code",
   "execution_count": 4,
   "id": "c50e8570",
   "metadata": {},
   "outputs": [],
   "source": [
    "#Remove duplicates\n",
    "sales_data.drop_duplicates(inplace=True)\n",
    "behavior_data.drop_duplicates(inplace=True)\n"
   ]
  },
  {
   "cell_type": "code",
   "execution_count": 5,
   "id": "5c6c6163",
   "metadata": {},
   "outputs": [],
   "source": [
    "#Correct inconsistencies\n",
    "sales_data['InvoiceNo'] = sales_data['InvoiceNo'].str.capitalize()\n"
   ]
  },
  {
   "cell_type": "code",
   "execution_count": 6,
   "id": "52322933",
   "metadata": {},
   "outputs": [],
   "source": [
    "#Scale numerical variables\n",
    "scaler = MinMaxScaler()\n",
    "sales_data['Quantity'] = scaler.fit_transform(sales_data[['Quantity']])\n"
   ]
  },
  {
   "cell_type": "code",
   "execution_count": 7,
   "id": "e6566106",
   "metadata": {},
   "outputs": [],
   "source": [
    "#Save the preprocessed data\n",
    "sales_data.to_csv('preprocessed_sales_data.csv', index=False)\n",
    "behavior_data.to_csv('preprocessed_behavior_data.csv', index=False)"
   ]
  },
  {
   "cell_type": "code",
   "execution_count": null,
   "id": "e82d6aca",
   "metadata": {},
   "outputs": [],
   "source": []
  },
  {
   "cell_type": "code",
   "execution_count": 8,
   "id": "a7056bb6",
   "metadata": {},
   "outputs": [
    {
     "name": "stdout",
     "output_type": "stream",
     "text": [
      "Sales Data Dimensions:\n",
      "(541909, 10)\n",
      "\n",
      "Sample Sales Data Records:\n",
      "  InvoiceNo InvoiceDate  InvoiceTime StockCode  \\\n",
      "0    536365  01-12-2010  08:26:00 AM    85123A   \n",
      "1    536365  01-12-2010  08:26:00 AM     71053   \n",
      "2    536365  01-12-2010  08:26:00 AM    84406B   \n",
      "3    536365  01-12-2010  08:26:00 AM    84029G   \n",
      "4    536365  01-12-2010  08:26:00 AM    84029E   \n",
      "\n",
      "                           Description  Quantity  UnitPrice  Totalsale  \\\n",
      "0   WHITE HANGING HEART T-LIGHT HOLDER         6       2.55      15.30   \n",
      "1                  WHITE METAL LANTERN         6       3.39      20.34   \n",
      "2       CREAM CUPID HEARTS COAT HANGER         8       2.75      22.00   \n",
      "3  KNITTED UNION FLAG HOT WATER BOTTLE         6       3.39      20.34   \n",
      "4       RED WOOLLY HOTTIE WHITE HEART.         6       3.39      20.34   \n",
      "\n",
      "   CustomerID         Country  \n",
      "0     17850.0  United Kingdom  \n",
      "1     17850.0  United Kingdom  \n",
      "2     17850.0  United Kingdom  \n",
      "3     17850.0  United Kingdom  \n",
      "4     17850.0  United Kingdom  \n",
      "\n",
      "Sales Data Column Names:\n",
      "Index(['InvoiceNo', 'InvoiceDate', 'InvoiceTime', 'StockCode', 'Description',\n",
      "       'Quantity', 'UnitPrice', 'Totalsale', 'CustomerID', 'Country'],\n",
      "      dtype='object')\n",
      "\n",
      "Sales Data Data Types:\n",
      "<class 'pandas.core.frame.DataFrame'>\n",
      "RangeIndex: 541909 entries, 0 to 541908\n",
      "Data columns (total 10 columns):\n",
      " #   Column       Non-Null Count   Dtype  \n",
      "---  ------       --------------   -----  \n",
      " 0   InvoiceNo    541909 non-null  object \n",
      " 1   InvoiceDate  541909 non-null  object \n",
      " 2   InvoiceTime  541909 non-null  object \n",
      " 3   StockCode    541909 non-null  object \n",
      " 4   Description  540455 non-null  object \n",
      " 5   Quantity     541909 non-null  int64  \n",
      " 6   UnitPrice    541909 non-null  float64\n",
      " 7   Totalsale    541909 non-null  float64\n",
      " 8   CustomerID   406829 non-null  float64\n",
      " 9   Country      541909 non-null  object \n",
      "dtypes: float64(3), int64(1), object(6)\n",
      "memory usage: 41.3+ MB\n",
      "None\n"
     ]
    }
   ],
   "source": [
    "# Load the preprocessed dataset\n",
    "sales_data = pd.read_csv(\"D:\\Projects\\customer behavior analysis system for ecommerce recommendations\\Sales data based on demographics\\online retail.csv\")\n",
    "behavior_data = pd.read_csv(\"D:\\Projects\\customer behavior analysis system for ecommerce recommendations\\Online Retail Dataset\\online_retail.csv\")\n",
    "\n",
    "# Perform basic data exploration for sales_data\n",
    "print(\"Sales Data Dimensions:\")\n",
    "print(sales_data.shape)\n",
    "\n",
    "print(\"\\nSample Sales Data Records:\")\n",
    "print(sales_data.head())\n",
    "\n",
    "print(\"\\nSales Data Column Names:\")\n",
    "print(sales_data.columns)\n",
    "\n",
    "print(\"\\nSales Data Data Types:\")\n",
    "print(sales_data.info())\n"
   ]
  },
  {
   "cell_type": "code",
   "execution_count": 9,
   "id": "5bde4d03",
   "metadata": {},
   "outputs": [
    {
     "name": "stdout",
     "output_type": "stream",
     "text": [
      "\n",
      "Summary Statistics for Sales Data:\n",
      "            Quantity      UnitPrice      Totalsale     CustomerID\n",
      "count  541909.000000  541909.000000  541909.000000  406829.000000\n",
      "mean        9.552250       4.611114      17.987795   15287.690570\n",
      "std       218.081158      96.759853     378.810824    1713.600303\n",
      "min    -80995.000000  -11062.060000 -168469.600000   12346.000000\n",
      "25%         1.000000       1.250000       3.400000   13953.000000\n",
      "50%         3.000000       2.080000       9.750000   15152.000000\n",
      "75%        10.000000       4.130000      17.400000   16791.000000\n",
      "max     80995.000000   38970.000000  168469.600000   18287.000000\n"
     ]
    }
   ],
   "source": [
    "# Generate summary statistics for sales_data\n",
    "print(\"\\nSummary Statistics for Sales Data:\")\n",
    "print(sales_data.describe())\n"
   ]
  },
  {
   "cell_type": "code",
   "execution_count": 10,
   "id": "4d46461e",
   "metadata": {},
   "outputs": [
    {
     "name": "stdout",
     "output_type": "stream",
     "text": [
      "\n",
      "Missing Values in Sales Data:\n",
      "InvoiceNo           0\n",
      "InvoiceDate         0\n",
      "InvoiceTime         0\n",
      "StockCode           0\n",
      "Description      1454\n",
      "Quantity            0\n",
      "UnitPrice           0\n",
      "Totalsale           0\n",
      "CustomerID     135080\n",
      "Country             0\n",
      "dtype: int64\n"
     ]
    }
   ],
   "source": [
    "# Handle missing values for sales_data\n",
    "print(\"\\nMissing Values in Sales Data:\")\n",
    "print(sales_data.isnull().sum())"
   ]
  },
  {
   "cell_type": "code",
   "execution_count": 11,
   "id": "fbef5520",
   "metadata": {},
   "outputs": [
    {
     "name": "stdout",
     "output_type": "stream",
     "text": [
      "\n",
      "Value Counts of Categorical Variables in Sales Data:\n",
      "17841.0    7983\n",
      "14911.0    5903\n",
      "14096.0    5128\n",
      "12748.0    4642\n",
      "14606.0    2782\n",
      "           ... \n",
      "15070.0       1\n",
      "15753.0       1\n",
      "17065.0       1\n",
      "16881.0       1\n",
      "16995.0       1\n",
      "Name: CustomerID, Length: 4372, dtype: int64\n"
     ]
    }
   ],
   "source": [
    "# Explore categorical variables in sales_data\n",
    "print(\"\\nValue Counts of Categorical Variables in Sales Data:\")\n",
    "print(sales_data['CustomerID'].value_counts())"
   ]
  },
  {
   "cell_type": "code",
   "execution_count": 12,
   "id": "9b19e26d",
   "metadata": {},
   "outputs": [
    {
     "data": {
      "image/png": "[encoded data removed]",
      "text/plain": [
       "<Figure size 720x432 with 1 Axes>"
      ]
     },
     "metadata": {
      "needs_background": "light"
     },
     "output_type": "display_data"
    }
   ],
   "source": [
    "import seaborn as sns\n",
    "# Visualize the data in sales_data\n",
    "plt.figure(figsize=(10, 6))\n",
    "sns.histplot(data=sales_data, x='StockCode', kde=True)\n",
    "plt.title('Distribution of Amount in Sales Data')\n",
    "plt.xlabel('Amount')\n",
    "plt.ylabel('Frequency')\n",
    "plt.show()"
   ]
  },
  {
   "cell_type": "code",
   "execution_count": 13,
   "id": "740ba4b1",
   "metadata": {},
   "outputs": [
    {
     "name": "stdout",
     "output_type": "stream",
     "text": [
      "\n",
      "Behavior Data Dimensions:\n",
      "(541909, 8)\n",
      "\n",
      "Sample Behavior Data Records:\n",
      "  InvoiceNo StockCode                          Description  Quantity  \\\n",
      "0    536365    85123A   WHITE HANGING HEART T-LIGHT HOLDER         6   \n",
      "1    536365     71053                  WHITE METAL LANTERN         6   \n",
      "2    536365    84406B       CREAM CUPID HEARTS COAT HANGER         8   \n",
      "3    536365    84029G  KNITTED UNION FLAG HOT WATER BOTTLE         6   \n",
      "4    536365    84029E       RED WOOLLY HOTTIE WHITE HEART.         6   \n",
      "\n",
      "           InvoiceDate  UnitPrice  CustomerID         Country  \n",
      "0  2010-12-01 08:26:00       2.55     17850.0  United Kingdom  \n",
      "1  2010-12-01 08:26:00       3.39     17850.0  United Kingdom  \n",
      "2  2010-12-01 08:26:00       2.75     17850.0  United Kingdom  \n",
      "3  2010-12-01 08:26:00       3.39     17850.0  United Kingdom  \n",
      "4  2010-12-01 08:26:00       3.39     17850.0  United Kingdom  \n",
      "\n",
      "Behavior Data Column Names:\n",
      "Index(['InvoiceNo', 'StockCode', 'Description', 'Quantity', 'InvoiceDate',\n",
      "       'UnitPrice', 'CustomerID', 'Country'],\n",
      "      dtype='object')\n",
      "\n",
      "Behavior Data Data Types:\n",
      "<class 'pandas.core.frame.DataFrame'>\n",
      "RangeIndex: 541909 entries, 0 to 541908\n",
      "Data columns (total 8 columns):\n",
      " #   Column       Non-Null Count   Dtype  \n",
      "---  ------       --------------   -----  \n",
      " 0   InvoiceNo    541909 non-null  object \n",
      " 1   StockCode    541909 non-null  object \n",
      " 2   Description  540455 non-null  object \n",
      " 3   Quantity     541909 non-null  int64  \n",
      " 4   InvoiceDate  541909 non-null  object \n",
      " 5   UnitPrice    541909 non-null  float64\n",
      " 6   CustomerID   406829 non-null  float64\n",
      " 7   Country      541909 non-null  object \n",
      "dtypes: float64(2), int64(1), object(5)\n",
      "memory usage: 33.1+ MB\n",
      "None\n"
     ]
    }
   ],
   "source": [
    "# Perform basic data exploration for behavior_data\n",
    "print(\"\\nBehavior Data Dimensions:\")\n",
    "print(behavior_data.shape)\n",
    "\n",
    "print(\"\\nSample Behavior Data Records:\")\n",
    "print(behavior_data.head())\n",
    "\n",
    "print(\"\\nBehavior Data Column Names:\")\n",
    "print(behavior_data.columns)\n",
    "\n",
    "print(\"\\nBehavior Data Data Types:\")\n",
    "print(behavior_data.info())\n"
   ]
  },
  {
   "cell_type": "code",
   "execution_count": 14,
   "id": "473f284b",
   "metadata": {},
   "outputs": [
    {
     "name": "stdout",
     "output_type": "stream",
     "text": [
      "\n",
      "Summary Statistics for Behavior Data:\n",
      "            Quantity      UnitPrice     CustomerID\n",
      "count  541909.000000  541909.000000  406829.000000\n",
      "mean        9.552250       4.611114   15287.690570\n",
      "std       218.081158      96.759853    1713.600303\n",
      "min    -80995.000000  -11062.060000   12346.000000\n",
      "25%         1.000000       1.250000   13953.000000\n",
      "50%         3.000000       2.080000   15152.000000\n",
      "75%        10.000000       4.130000   16791.000000\n",
      "max     80995.000000   38970.000000   18287.000000\n"
     ]
    }
   ],
   "source": [
    "# Generate summary statistics for behavior_data\n",
    "print(\"\\nSummary Statistics for Behavior Data:\")\n",
    "print(behavior_data.describe())\n"
   ]
  },
  {
   "cell_type": "code",
   "execution_count": 15,
   "id": "8c8d7ac6",
   "metadata": {},
   "outputs": [
    {
     "name": "stdout",
     "output_type": "stream",
     "text": [
      "\n",
      "Missing Values in Behavior Data:\n",
      "InvoiceNo           0\n",
      "StockCode           0\n",
      "Description      1454\n",
      "Quantity            0\n",
      "InvoiceDate         0\n",
      "UnitPrice           0\n",
      "CustomerID     135080\n",
      "Country             0\n",
      "dtype: int64\n"
     ]
    }
   ],
   "source": [
    "# Handle missing values for behavior_data\n",
    "print(\"\\nMissing Values in Behavior Data:\")\n",
    "print(behavior_data.isnull().sum())\n"
   ]
  },
  {
   "cell_type": "code",
   "execution_count": 16,
   "id": "c389d1e2",
   "metadata": {},
   "outputs": [
    {
     "name": "stdout",
     "output_type": "stream",
     "text": [
      "\n",
      "Value Counts of Categorical Variables in Behavior Data:\n",
      "573585     1114\n",
      "581219      749\n",
      "581492      731\n",
      "580729      721\n",
      "558475      705\n",
      "           ... \n",
      "554023        1\n",
      "554022        1\n",
      "554021        1\n",
      "554020        1\n",
      "C558901       1\n",
      "Name: InvoiceNo, Length: 25900, dtype: int64\n"
     ]
    }
   ],
   "source": [
    "# Explore categorical variables in behavior_data\n",
    "print(\"\\nValue Counts of Categorical Variables in Behavior Data:\")\n",
    "print(behavior_data['InvoiceNo'].value_counts())\n"
   ]
  },
  {
   "cell_type": "code",
   "execution_count": 17,
   "id": "d10f9c54",
   "metadata": {},
   "outputs": [
    {
     "data": {
      "image/png": "[encoded data removed]",
      "text/plain": [
       "<Figure size 720x432 with 1 Axes>"
      ]
     },
     "metadata": {
      "needs_background": "light"
     },
     "output_type": "display_data"
    }
   ],
   "source": [
    "# Visualize the data in behavior_data\n",
    "plt.figure(figsize=(10, 6))\n",
    "sns.countplot(data=behavior_data, x='InvoiceNo')\n",
    "plt.title('In-Store vs Online Purchases in Behavior Data')\n",
    "plt.xlabel('Purchase Type')\n",
    "plt.ylabel('Count')\n",
    "plt.show()"
   ]
  },
  {
   "cell_type": "code",
   "execution_count": 18,
   "id": "e4c20cce",
   "metadata": {},
   "outputs": [
    {
     "name": "stdout",
     "output_type": "stream",
     "text": [
      "Index(['InvoiceNo', 'InvoiceDate', 'InvoiceTime', 'StockCode', 'Description',\n",
      "       'Quantity', 'UnitPrice', 'Totalsale', 'CustomerID', 'Country'],\n",
      "      dtype='object')\n",
      "Index(['InvoiceNo', 'StockCode', 'Description', 'Quantity', 'InvoiceDate',\n",
      "       'UnitPrice', 'CustomerID', 'Country'],\n",
      "      dtype='object')\n"
     ]
    }
   ],
   "source": [
    "print(sales_data.columns)\n",
    "print(behavior_data.columns)"
   ]
  },
  {
   "cell_type": "code",
   "execution_count": 23,
   "id": "550ea654",
   "metadata": {},
   "outputs": [],
   "source": [
    "#behavior_data['CustomerID'] = behavior_data['CustomerID'].astype(str)\n",
    "\n",
    "#behavior_data['CustomerID'] = behavior_data['CustomerID'].astype(str)\n",
    "#behavior_data.rename(columns={'float64_column': 'CustomerID'}, inplace=True)\n",
    "\n",
    "#merged_data = pd.concat([sales_data, behavior_data], axis=1)\n"
   ]
  },
  {
   "cell_type": "code",
   "execution_count": 24,
   "id": "01e57f13",
   "metadata": {},
   "outputs": [],
   "source": [
    "# Load the preprocessed sales data\n",
    "sales_data = pd.read_csv('preprocessed_sales_data.csv')\n",
    "\n",
    "# Load the preprocessed behavior data\n",
    "behavior_data = pd.read_csv('preprocessed_behavior_data.csv')\n",
    "\n",
    "# Explore relationships between variables\n",
    "sales_behavior_merge = pd.merge(sales_data, behavior_data, on='InvoiceNo', how='inner')\n",
    "correlation_matrix = sales_behavior_merge.corr()\n"
   ]
  },
  {
   "cell_type": "code",
   "execution_count": null,
   "id": "cad1dc4a",
   "metadata": {},
   "outputs": [],
   "source": [
    "\n"
   ]
  },
  {
   "cell_type": "code",
   "execution_count": 26,
   "id": "9c04fa6d",
   "metadata": {},
   "outputs": [],
   "source": [
    "from sklearn.preprocessing import LabelEncoder, MinMaxScaler\n",
    "from sklearn.model_selection import train_test_split\n",
    "\n",
    "# Load the preprocessed sales data\n",
    "sales_data = pd.read_csv('preprocessed_sales_data.csv')\n"
   ]
  },
  {
   "cell_type": "code",
   "execution_count": 30,
   "id": "421f8d80",
   "metadata": {},
   "outputs": [],
   "source": [
    "# Select relevant features from sales data\n",
    "selected_sales_features = ['InvoiceNo', 'Quantity', 'StockCode']\n",
    "\n",
    "# Subset the sales data with selected features\n",
    "subset_sales_data = sales_data[selected_sales_features]"
   ]
  },
  {
   "cell_type": "code",
   "execution_count": 33,
   "id": "f9d604f9",
   "metadata": {},
   "outputs": [
    {
     "name": "stdout",
     "output_type": "stream",
     "text": [
      "   StockCode  Quantity\n",
      "0       3249  0.500037\n",
      "1       2649  0.500037\n",
      "2       2855  0.500049\n",
      "3       2803  0.500037\n",
      "4       2802  0.500037\n"
     ]
    },
    {
     "name": "stderr",
     "output_type": "stream",
     "text": [
      "C:\\Users\\Amna  Imtiaz\\AppData\\Local\\Temp\\ipykernel_11948\\317417742.py:6: SettingWithCopyWarning: \n",
      "A value is trying to be set on a copy of a slice from a DataFrame.\n",
      "Try using .loc[row_indexer,col_indexer] = value instead\n",
      "\n",
      "See the caveats in the documentation: https://pandas.pydata.org/pandas-docs/stable/user_guide/indexing.html#returning-a-view-versus-a-copy\n",
      "  subset_sales_data.loc[:, 'StockCode'] = encoder.fit_transform(subset_sales_data['StockCode'].values)\n"
     ]
    }
   ],
   "source": [
    "\n",
    "# Subset the relevant columns\n",
    "subset_sales_data = sales_data[['StockCode', 'Quantity']]\n",
    "\n",
    "# Apply label encoding to 'CustomerID'\n",
    "encoder = LabelEncoder()\n",
    "subset_sales_data.loc[row_indexer,col_indexer][:, 'StockCode'] = encoder.fit_transform(subset_sales_data['StockCode'].values)\n",
    "\n",
    "# Display the updated DataFrame\n",
    "print(subset_sales_data.head())"
   ]
  },
  {
   "cell_type": "code",
   "execution_count": 42,
   "id": "c34ceecd",
   "metadata": {},
   "outputs": [
    {
     "name": "stdout",
     "output_type": "stream",
     "text": [
      "subset_sales_data columns: Index(['InvoiceNo', 'Quantity', 'StockCode'], dtype='object')\n",
      "subset_behavior_data columns: Index(['InvoiceNo', 'StockCode'], dtype='object')\n"
     ]
    }
   ],
   "source": [
    "# Load the preprocessed behavior data\n",
    "behavior_data = pd.read_csv('D:\\Projects\\customer behavior analysis system for ecommerce recommendations\\Online Retail Dataset\\online_retail.csv')\n",
    "\n",
    "#subset_sales_data = sales_data[selected_sales_features]\n",
    "subset_behavior_data = behavior_data[selected_behavior_features]\n",
    "\n",
    "# Check the column names in subset_sales_data and subset_behavior_data\n",
    "print(\"subset_sales_data columns:\", subset_sales_data.columns)\n",
    "print(\"subset_behavior_data columns:\", subset_behavior_data.columns)\n",
    "\n",
    "# Merge the sales and behavior data on 'InvoiceNo'\n",
    "merged_data = pd.merge(subset_sales_data, subset_behavior_data, on='InvoiceNo', how='inner')\n",
    "\n",
    "\n"
   ]
  },
  {
   "cell_type": "code",
   "execution_count": 43,
   "id": "8037fad2",
   "metadata": {},
   "outputs": [
    {
     "name": "stdout",
     "output_type": "stream",
     "text": [
      "X shape: (19736411, 3)\n",
      "y shape: (19736411,)\n"
     ]
    }
   ],
   "source": [
    "print(\"X shape:\", X.shape)\n",
    "print(\"y shape:\", y.shape)\n"
   ]
  },
  {
   "cell_type": "code",
   "execution_count": 44,
   "id": "3d8b5471",
   "metadata": {},
   "outputs": [
    {
     "name": "stdout",
     "output_type": "stream",
     "text": [
      "<class 'pandas.core.frame.DataFrame'>\n",
      "Int64Index: 19736411 entries, 0 to 19736410\n",
      "Data columns (total 4 columns):\n",
      " #   Column       Dtype  \n",
      "---  ------       -----  \n",
      " 0   InvoiceNo    object \n",
      " 1   Quantity     float64\n",
      " 2   StockCode_x  object \n",
      " 3   StockCode_y  object \n",
      "dtypes: float64(1), object(3)\n",
      "memory usage: 752.9+ MB\n",
      "None\n"
     ]
    }
   ],
   "source": [
    "print(merged_data.info())\n"
   ]
  },
  {
   "cell_type": "code",
   "execution_count": 51,
   "id": "3b133d3b",
   "metadata": {},
   "outputs": [],
   "source": [
    "dtypes = {'column_name1': np.float64, 'column_name2': str}\n",
    "# Load the preprocessed sales data\n",
    "sales_data = pd.read_csv('D:\\Projects\\customer behavior analysis system for ecommerce recommendations\\Sales data based on demographics\\Demographic_Data_Orig.csv', dtype=dtypes, low_memory=False)\n",
    "\n",
    "# Check if the sales_data dataframe is empty\n",
    "if sales_data.empty:\n",
    "    print(\"Error: The sales data is empty.\")\n",
    "    # Take appropriate actions to handle the empty dataframe, such as checking the data source or loading a different file.\n",
    "else:\n",
    "    # Perform your data preprocessing steps here\n",
    "\n",
    "    # Split the data into features (X) and target variable (y)\n",
    "    target_variable = 'Quantity'\n",
    "    X = merged_data.drop(columns=target_variable)\n",
    "    y = merged_data[target_variable]\n",
    "\n",
    "    # Check if the X and y dataframes are empty\n",
    "    if X.empty or y.empty:\n",
    "        print(\"Error: The X or y dataframe is empty.\")\n",
    "        # Take appropriate actions to handle the empty dataframes, such as checking the data sources or adjusting the preprocessing steps.\n",
    "    else:\n",
    "        # Split the data into training and testing sets\n",
    "        X_train, X_test, y_train, y_test = train_test_split(X, y, test_size=0.2, random_state=42)\n"
   ]
  },
  {
   "cell_type": "code",
   "execution_count": 52,
   "id": "be7ad529",
   "metadata": {},
   "outputs": [],
   "source": [
    "# Check the size of the merged_data DataFrame\n",
    "data_size = len(merged_data)\n",
    "\n",
    "# Set the test size based on the available data\n",
    "test_size = 0.2  # 20% of the data\n",
    "if data_size < 5:\n",
    "    test_size = 0.2  # If data size is too small, use 50% for testing\n",
    "\n",
    "# Split the data into training and testing sets\n",
    "target_variable = 'InvoiceNo'\n",
    "X = merged_data.drop(columns=target_variable)\n",
    "y = merged_data[target_variable]\n",
    "X_train, X_test, y_train, y_test = train_test_split(X, y, test_size=test_size, random_state=42)\n"
   ]
  },
  {
   "cell_type": "markdown",
   "id": "323dd66d",
   "metadata": {},
   "source": [
    "## Collaborative Filtering"
   ]
  },
  {
   "cell_type": "code",
   "execution_count": null,
   "id": "de09d6e9",
   "metadata": {
    "scrolled": true
   },
   "outputs": [],
   "source": [
    "# Collaborative Filtering\n",
    "from surprise import Dataset, Reader, KNNBasic\n",
    "from surprise.model_selection import cross_validate\n",
    "\n",
    "# Load the sales_data into Surprise's Dataset format\n",
    "reader = Reader(rating_scale=(0, 1))\n",
    "sales_data_surprise = Dataset.load_from_df(sales_data[['InvoiceNo','CustomerID', 'InvoiceNo' ]], reader)\n",
    "\n",
    "# Use a collaborative filtering algorithm (e.g., KNNBasic)\n",
    "cf_model = KNNBasic()\n",
    "\n",
    "# Perform cross-validation to evaluate the collaborative filtering model\n",
    "cross_validate(cf_model, sales_data_surprise, measures=['RMSE', 'MAE'], cv=5, verbose=True)\n",
    "\n",
    "# Train the collaborative filtering model on the entire sales_data\n",
    "trainset = sales_data_surprise.build_full_trainset()\n",
    "cf_model.fit(trainset)\n"
   ]
  },
  {
   "cell_type": "code",
   "execution_count": null,
   "id": "75395e33",
   "metadata": {},
   "outputs": [],
   "source": []
  },
  {
   "cell_type": "code",
   "execution_count": null,
   "id": "f9083ce4",
   "metadata": {},
   "outputs": [],
   "source": []
  },
  {
   "cell_type": "markdown",
   "id": "328bf2d9",
   "metadata": {},
   "source": [
    "## Content-Based Filtering"
   ]
  },
  {
   "cell_type": "code",
   "execution_count": null,
   "id": "8638ae59",
   "metadata": {},
   "outputs": [],
   "source": [
    "# Content-Based Filtering\n",
    "from sklearn.feature_extraction.text import TfidfVectorizer\n",
    "from sklearn.metrics.pairwise import linear_kernel\n",
    "\n",
    "# Create a TF-IDF vectorizer to convert item descriptions into numerical vectors\n",
    "tfidf_vectorizer = TfidfVectorizer(stop_words='english')\n",
    "\n",
    "# Fit and transform the behavior_data item descriptions into TF-IDF vectors\n",
    "tfidf_matrix = tfidf_vectorizer.fit_transform(behavior_data['Description'].fillna(''))\n",
    "\n",
    "# Compute the cosine similarity matrix\n",
    "cosine_sim = linear_kernel(tfidf_matrix, tfidf_matrix)\n",
    "\n",
    "# Function to get recommendations based on content similarity\n",
    "def get_content_based_recommendations(stockcode, top_n=5):\n",
    "    # Get the index of the stockcode in behavior_data\n",
    "    stockcode_idx = behavior_data[behavior_data['StockCode'] == stockcode].index[0]\n",
    "    \n",
    "    # Get the pairwise similarity scores with other items\n",
    "    sim_scores = list(enumerate(cosine_sim[stockcode_idx]))\n",
    "    \n",
    "    # Sort the items based on similarity scores\n",
    "    sim_scores = sorted(sim_scores, key=lambda x: x[1], reverse=True)\n",
    "    \n",
    "    # Get the top-n most similar items (excluding the input stockcode itself)\n",
    "    top_items = [i for i, _ in sim_scores if i != stockcode_idx][:top_n]\n",
    "    \n",
    "    # Return the recommended stockcodes\n",
    "    recommended_stockcodes = behavior_data.loc[top_items, 'StockCode'].tolist()\n",
    "    return recommended_stockcodes\n",
    "\n",
    "#usage of content-based filtering\n",
    "stockcode = 'ABC123'  \n",
    "recommendations = get_content_based_recommendations(stockcode)\n",
    "print(\"Content-Based Recommendations:\")\n",
    "print(recommendations)\n"
   ]
  },
  {
   "cell_type": "markdown",
   "id": "0902839f",
   "metadata": {},
   "source": [
    "## evaluate the performance of a recommendation model"
   ]
  },
  {
   "cell_type": "code",
   "execution_count": null,
   "id": "08e50ba6",
   "metadata": {},
   "outputs": [],
   "source": [
    "# Split the data into training and testing sets\n",
    "train_data = sales_data.sample(frac=0.8, random_state=42)\n",
    "test_data = sales_data.drop(train_data.index)\n",
    "\n",
    "# Train the model (collaborative filtering)\n",
    "model.fit(train_data)\n",
    "\n",
    "# Make predictions on the testing set or future data\n",
    "recommendations = model.predict(test_data)\n",
    "\n",
    "# Compare predictions with actual behavior\n",
    "# calculate precision, recall, and accuracy\n",
    "\n",
    "def calculate_precision(predictions, actual):\n",
    "precision = calculate_precision(predictions, test_data)\n",
    "\n",
    "def calculate_recall(predictions, actual):\n",
    "recall = calculate_recall(predictions, test_data)\n",
    "\n",
    "def calculate_accuracy(predictions, actual):\n",
    "accuracy = calculate_accuracy(predictions, test_data)\n",
    "\n",
    "# Print the evaluation metrics\n",
    "print(\"Precision:\", precision)\n",
    "print(\"Recall:\", recall)\n",
    "print(\"Accuracy:\", accuracy)\n"
   ]
  },
  {
   "cell_type": "code",
   "execution_count": null,
   "id": "de97b4f4",
   "metadata": {},
   "outputs": [],
   "source": []
  }
 ],
 "metadata": {
  "kernelspec": {
   "display_name": "Python 3 (ipykernel)",
   "language": "python",
   "name": "python3"
  },
  "language_info": {
   "codemirror_mode": {
    "name": "ipython",
    "version": 3
   },
   "file_extension": ".py",
   "mimetype": "text/x-python",
   "name": "python",
   "nbconvert_exporter": "python",
   "pygments_lexer": "ipython3",
   "version": "3.10.4"
  }
 },
 "nbformat": 4,
 "nbformat_minor": 5
}
